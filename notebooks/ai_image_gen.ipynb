{
 "cells": [
  {
   "cell_type": "code",
   "execution_count": 9,
   "metadata": {},
   "outputs": [],
   "source": [
    "import openai\n",
    "import dotenv\n",
    "import os\n",
    "import requests\n",
    "import yaml\n",
    "import tqdm\n",
    "from caseconverter import macrocase\n",
    "\n",
    "dotenv.load_dotenv()\n",
    "\n",
    "client = openai.OpenAI(\n",
    "    api_key=os.getenv(\"OPENAI_API_KEY\"),\n",
    ")\n"
   ]
  },
  {
   "cell_type": "code",
   "execution_count": 10,
   "metadata": {},
   "outputs": [],
   "source": [
    "items_pdata_path = \"../.projor/data/items.pdata.yaml\"\n",
    "with open(items_pdata_path, \"r\") as f:\n",
    "    items = yaml.safe_load(f)['objects']"
   ]
  },
  {
   "cell_type": "code",
   "execution_count": 11,
   "metadata": {},
   "outputs": [],
   "source": [
    "def capital_case(macrocasename):\n",
    "    parts = macrocasename.split(\" \")\n",
    "    capitalized_parts = [part.capitalize() for part in parts]\n",
    "    return \" \".join(capitalized_parts)\n",
    "def kebab_case(macrocasename):\n",
    "    parts = macrocasename.split(\" \")\n",
    "    kebab_parts = [part.lower() for part in parts]\n",
    "    return \"-\".join(kebab_parts)\n",
    "def render_prompt(itemname):\n",
    "    return f\"cut-out sticker with white outline, vibrant pastel color scheme, vector graphics illustration, completely solid black background, subject is the element '{capital_case(macrocase(itemname))}' from a game\"\n",
    "def image_filename_of(itemname):\n",
    "    return \"../packages/assets/src/items/item.\" + kebab_case(itemname) + \".png\""
   ]
  },
  {
   "cell_type": "code",
   "execution_count": 12,
   "metadata": {},
   "outputs": [],
   "source": [
    "def gen_image_with_retry(prompt, outfilename):\n",
    "    for i in range(10):\n",
    "        try:\n",
    "            # Generate an image based on the prompt\n",
    "            response = openai.images.generate(prompt=prompt, model=\"dall-e-3\")\n",
    "            response_image = response.data[0]\n",
    "            response_image_url = response_image.url\n",
    "\n",
    "            # Prints response containing a URL link to image\n",
    "            image_download_response = requests.get(response_image_url)\n",
    "            image_download_response.raise_for_status()\n",
    "            with open(outfilename, \"wb\") as f:\n",
    "                f.write(image_download_response.content)\n",
    "            return\n",
    "        except Exception as e:\n",
    "            print(f\"Retrying for prompt '{prompt}' and filename '{outfilename}' ...\")\n",
    "            continue\n",
    "    print(f\"Failed to generate image for prompt '{prompt}' and filename '{outfilename}'\")\n",
    "    raise Exception(f\"Failed to generate image for prompt '{prompt}' and filename '{outfilename}'\")"
   ]
  },
  {
   "cell_type": "code",
   "execution_count": 13,
   "metadata": {},
   "outputs": [
    {
     "name": "stderr",
     "output_type": "stream",
     "text": [
      "  0%|          | 0/172 [00:00<?, ?it/s]"
     ]
    },
    {
     "name": "stdout",
     "output_type": "stream",
     "text": [
      "Generating image for Monkey to ../packages/assets/src/items/item.monkey.png ...\n"
     ]
    },
    {
     "name": "stderr",
     "output_type": "stream",
     "text": [
      "  0%|          | 0/172 [00:14<?, ?it/s]"
     ]
    },
    {
     "name": "stdout",
     "output_type": "stream",
     "text": [
      "Failed to generate image for prompt 'cut-out sticker with white outline, vibrant pastel color scheme, vector graphics illustration, completely solid black background, subject is the element 'Monkey' from a game' and filename '../packages/assets/src/items/item.monkey.png'\n"
     ]
    },
    {
     "name": "stderr",
     "output_type": "stream",
     "text": [
      "\n"
     ]
    },
    {
     "ename": "Exception",
     "evalue": "Failed to generate image for prompt 'cut-out sticker with white outline, vibrant pastel color scheme, vector graphics illustration, completely solid black background, subject is the element 'Monkey' from a game' and filename '../packages/assets/src/items/item.monkey.png'",
     "output_type": "error",
     "traceback": [
      "\u001b[1;31m---------------------------------------------------------------------------\u001b[0m",
      "\u001b[1;31mException\u001b[0m                                 Traceback (most recent call last)",
      "Cell \u001b[1;32mIn[13], line 9\u001b[0m\n\u001b[0;32m      7\u001b[0m     \u001b[38;5;28;01mcontinue\u001b[39;00m\n\u001b[0;32m      8\u001b[0m \u001b[38;5;28mprint\u001b[39m(\u001b[38;5;124mf\u001b[39m\u001b[38;5;124m\"\u001b[39m\u001b[38;5;124mGenerating image for \u001b[39m\u001b[38;5;132;01m{\u001b[39;00mitemname\u001b[38;5;132;01m}\u001b[39;00m\u001b[38;5;124m to \u001b[39m\u001b[38;5;132;01m{\u001b[39;00moutfilename\u001b[38;5;132;01m}\u001b[39;00m\u001b[38;5;124m ...\u001b[39m\u001b[38;5;124m\"\u001b[39m)\n\u001b[1;32m----> 9\u001b[0m \u001b[43mgen_image_with_retry\u001b[49m\u001b[43m(\u001b[49m\u001b[43mprompt\u001b[49m\u001b[43m,\u001b[49m\u001b[43m \u001b[49m\u001b[43moutfilename\u001b[49m\u001b[43m)\u001b[49m\n\u001b[0;32m     10\u001b[0m \u001b[38;5;28mprint\u001b[39m(\u001b[38;5;124mf\u001b[39m\u001b[38;5;124m\"\u001b[39m\u001b[38;5;124mGenerated image for \u001b[39m\u001b[38;5;132;01m{\u001b[39;00mitemname\u001b[38;5;132;01m}\u001b[39;00m\u001b[38;5;124m to \u001b[39m\u001b[38;5;132;01m{\u001b[39;00moutfilename\u001b[38;5;132;01m}\u001b[39;00m\u001b[38;5;124m!\u001b[39m\u001b[38;5;124m\"\u001b[39m)\n",
      "Cell \u001b[1;32mIn[12], line 19\u001b[0m, in \u001b[0;36mgen_image_with_retry\u001b[1;34m(prompt, outfilename)\u001b[0m\n\u001b[0;32m     17\u001b[0m         \u001b[38;5;28;01mcontinue\u001b[39;00m\n\u001b[0;32m     18\u001b[0m \u001b[38;5;28mprint\u001b[39m(\u001b[38;5;124mf\u001b[39m\u001b[38;5;124m\"\u001b[39m\u001b[38;5;124mFailed to generate image for prompt \u001b[39m\u001b[38;5;124m'\u001b[39m\u001b[38;5;132;01m{\u001b[39;00mprompt\u001b[38;5;132;01m}\u001b[39;00m\u001b[38;5;124m'\u001b[39m\u001b[38;5;124m and filename \u001b[39m\u001b[38;5;124m'\u001b[39m\u001b[38;5;132;01m{\u001b[39;00moutfilename\u001b[38;5;132;01m}\u001b[39;00m\u001b[38;5;124m'\u001b[39m\u001b[38;5;124m\"\u001b[39m)\n\u001b[1;32m---> 19\u001b[0m \u001b[38;5;28;01mraise\u001b[39;00m \u001b[38;5;167;01mException\u001b[39;00m(\u001b[38;5;124mf\u001b[39m\u001b[38;5;124m\"\u001b[39m\u001b[38;5;124mFailed to generate image for prompt \u001b[39m\u001b[38;5;124m'\u001b[39m\u001b[38;5;132;01m{\u001b[39;00mprompt\u001b[38;5;132;01m}\u001b[39;00m\u001b[38;5;124m'\u001b[39m\u001b[38;5;124m and filename \u001b[39m\u001b[38;5;124m'\u001b[39m\u001b[38;5;132;01m{\u001b[39;00moutfilename\u001b[38;5;132;01m}\u001b[39;00m\u001b[38;5;124m'\u001b[39m\u001b[38;5;124m\"\u001b[39m)\n",
      "\u001b[1;31mException\u001b[0m: Failed to generate image for prompt 'cut-out sticker with white outline, vibrant pastel color scheme, vector graphics illustration, completely solid black background, subject is the element 'Monkey' from a game' and filename '../packages/assets/src/items/item.monkey.png'"
     ]
    }
   ],
   "source": [
    "for item in tqdm.tqdm(items):\n",
    "    itemname = item['name']\n",
    "    prompt = render_prompt(itemname)\n",
    "    outfilename = image_filename_of(itemname)\n",
    "    if os.path.exists(outfilename):\n",
    "        print(f\"Skipping {outfilename} as it already exists\")\n",
    "        continue\n",
    "    print(f\"Generating image for {itemname} to {outfilename} ...\")\n",
    "    gen_image_with_retry(prompt, outfilename)\n",
    "    print(f\"Generated image for {itemname} to {outfilename}!\")"
   ]
  }
 ],
 "metadata": {
  "kernelspec": {
   "display_name": "Python 3",
   "language": "python",
   "name": "python3"
  },
  "language_info": {
   "codemirror_mode": {
    "name": "ipython",
    "version": 3
   },
   "file_extension": ".py",
   "mimetype": "text/x-python",
   "name": "python",
   "nbconvert_exporter": "python",
   "pygments_lexer": "ipython3",
   "version": "3.12.2"
  }
 },
 "nbformat": 4,
 "nbformat_minor": 2
}
