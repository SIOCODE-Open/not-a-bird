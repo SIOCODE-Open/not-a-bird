{
 "cells": [
  {
   "cell_type": "code",
   "execution_count": 4,
   "metadata": {},
   "outputs": [
    {
     "name": "stdout",
     "output_type": "stream",
     "text": [
      "10\n"
     ]
    }
   ],
   "source": [
    "# You need to do this first before running this notebook:\n",
    "# python -m pip install PyYAML\n",
    "import yaml\n",
    "\n",
    "filename = \"../.projor/data/recipes.pdata.yaml\"\n",
    "recipes_pdata_objects = []\n",
    "with open(filename, 'r') as stream:\n",
    "    try:\n",
    "        recipes_pdata_content = yaml.safe_load(stream)\n",
    "        recipes_pdata_objects = recipes_pdata_content['objects']\n",
    "    except yaml.YAMLError as exc:\n",
    "        print(exc)\n",
    "\n",
    "print(len(recipes_pdata_objects))"
   ]
  },
  {
   "cell_type": "code",
   "execution_count": 5,
   "metadata": {},
   "outputs": [
    {
     "name": "stdout",
     "output_type": "stream",
     "text": [
      "- recipes#make_swarm\n",
      "- recipes#make_hydra\n",
      "- recipes#make_monkeybranch\n",
      "- recipes#make_bridge\n",
      "- recipes#make_goldengate\n",
      "- recipes#make_cardano\n",
      "- recipes#make_beer\n",
      "- recipes#make_lock\n",
      "- recipes#make_supermarmalade\n",
      "- recipes#make_hypermarmalade\n"
     ]
    }
   ],
   "source": [
    "for recipe in recipes_pdata_objects:\n",
    "    print(f'- recipes#{recipe[\"name\"]}')"
   ]
  }
 ],
 "metadata": {
  "kernelspec": {
   "display_name": "Python 3",
   "language": "python",
   "name": "python3"
  },
  "language_info": {
   "codemirror_mode": {
    "name": "ipython",
    "version": 3
   },
   "file_extension": ".py",
   "mimetype": "text/x-python",
   "name": "python",
   "nbconvert_exporter": "python",
   "pygments_lexer": "ipython3",
   "version": "3.12.2"
  }
 },
 "nbformat": 4,
 "nbformat_minor": 2
}
