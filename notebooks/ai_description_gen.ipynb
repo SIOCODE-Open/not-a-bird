{
 "cells": [
  {
   "cell_type": "code",
   "execution_count": 32,
   "metadata": {},
   "outputs": [],
   "source": [
    "import openai\n",
    "import dotenv\n",
    "import os\n",
    "import requests\n",
    "import yaml\n",
    "import tqdm\n",
    "import json\n",
    "from caseconverter import macrocase\n",
    "\n",
    "dotenv.load_dotenv()\n",
    "\n",
    "client = openai.OpenAI(\n",
    "    api_key=os.getenv(\"OPENAI_API_KEY\"),\n",
    ")\n"
   ]
  },
  {
   "cell_type": "code",
   "execution_count": 33,
   "metadata": {},
   "outputs": [],
   "source": [
    "items_pdata_path = \"../.projor/data/items.pdata.yaml\"\n",
    "with open(items_pdata_path, \"r\") as f:\n",
    "    items = yaml.safe_load(f)['objects']"
   ]
  },
  {
   "cell_type": "code",
   "execution_count": 34,
   "metadata": {},
   "outputs": [],
   "source": [
    "def capital_case(macrocasename):\n",
    "    parts = macrocasename.split(\" \")\n",
    "    capitalized_parts = [part.capitalize() for part in parts]\n",
    "    return \" \".join(capitalized_parts)\n",
    "def kebab_case(macrocasename):\n",
    "    parts = macrocasename.split(\" \")\n",
    "    kebab_parts = [part.lower() for part in parts]\n",
    "    return \"-\".join(kebab_parts)\n",
    "def render_prompt(itemname):\n",
    "    return [\n",
    "        {\n",
    "            \"role\": \"system\",\n",
    "            \"content\": \"Your task is to generate the description of an item in a game. Make it a funny, and entertaining name, use metaphors or pop culture references. Use only a single sentence, keep the descriptions short and concise. DO NOT start the description with the name of the element! Respond with nothing else, just a JSON object with the description key.\"\n",
    "        },\n",
    "        {\n",
    "            \"role\": \"user\",\n",
    "            \"content\": \"Water\"\n",
    "        },\n",
    "        {\n",
    "            \"role\": \"assistant\",\n",
    "            \"content\": \"\"\"{\"description\": \"It is the liquid substance, that is absolutely necessary for life.\"}\"\"\"\n",
    "        },\n",
    "        {\n",
    "            \"role\": \"user\",\n",
    "            \"content\": capital_case(itemname)\n",
    "        }\n",
    "    ]"
   ]
  },
  {
   "cell_type": "code",
   "execution_count": 35,
   "metadata": {},
   "outputs": [],
   "source": [
    "def gen_description_with_retry(prompt, outfilename):\n",
    "    for i in range(10):\n",
    "        try:\n",
    "            response = client.chat.completions.create(\n",
    "                messages=render_prompt(prompt),\n",
    "                model=\"gpt-4o\",\n",
    "                max_tokens=500,\n",
    "                response_format={\n",
    "                    \"type\": \"json_object\",\n",
    "                }\n",
    "            )\n",
    "\n",
    "            response_json_str = response.choices[0].message.content\n",
    "            response_json = json.loads(response_json_str)\n",
    "            with open(outfilename, \"w\") as f:\n",
    "                f.write(response_json['description'])\n",
    "        \n",
    "            return\n",
    "        except Exception as e:\n",
    "            print(f\"Retrying for prompt '{prompt}' and filename '{outfilename}' due to exception: {e} ...\")\n",
    "            continue\n",
    "    print(f\"Failed to generate description for prompt '{prompt}' and filename '{outfilename}'\")\n",
    "    raise Exception(f\"Failed to generate description for prompt '{prompt}' and filename '{outfilename}'\")"
   ]
  },
  {
   "cell_type": "code",
   "execution_count": 36,
   "metadata": {},
   "outputs": [
    {
     "name": "stderr",
     "output_type": "stream",
     "text": [
      "100%|██████████| 172/172 [03:28<00:00,  1.21s/it]\n"
     ]
    }
   ],
   "source": [
    "for item in tqdm.tqdm(items):\n",
    "    itemname = item['name']\n",
    "    outfilename = f\"../.projor/tmp/{kebab_case(itemname)}.description\"\n",
    "    if os.path.exists(outfilename):\n",
    "        print(f\"Skipping '{itemname}' as description already exists.\")\n",
    "        continue\n",
    "    gen_description_with_retry(itemname, outfilename)"
   ]
  }
 ],
 "metadata": {
  "kernelspec": {
   "display_name": "Python 3",
   "language": "python",
   "name": "python3"
  },
  "language_info": {
   "codemirror_mode": {
    "name": "ipython",
    "version": 3
   },
   "file_extension": ".py",
   "mimetype": "text/x-python",
   "name": "python",
   "nbconvert_exporter": "python",
   "pygments_lexer": "ipython3",
   "version": "3.12.2"
  }
 },
 "nbformat": 4,
 "nbformat_minor": 2
}
