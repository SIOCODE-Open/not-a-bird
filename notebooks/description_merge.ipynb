{
 "cells": [
  {
   "cell_type": "code",
   "execution_count": 6,
   "metadata": {},
   "outputs": [],
   "source": [
    "import yaml\n",
    "import os"
   ]
  },
  {
   "cell_type": "code",
   "execution_count": 7,
   "metadata": {},
   "outputs": [
    {
     "name": "stdout",
     "output_type": "stream",
     "text": [
      "{'description': 'The items in the game', 'id': 'items', 'name': 'items', 'objects': [{'description': 'We need a description here', 'name': 'Monkey', 'tier': 1}, {'description': 'We need a description here', 'name': 'Giraffe', 'tier': 1}, {'description': 'We need a description here', 'name': 'Bee', 'tier': 1}, {'description': 'We need a description here', 'name': 'Coin', 'tier': 1}, {'description': 'We need a description here', 'name': 'SWARM', 'tier': 2}, {'description': 'We need a description here', 'name': 'Hydra', 'tier': 2}, {'description': 'We need a description here', 'name': 'MonkeyBranch', 'tier': 2}, {'description': 'We need a description here', 'name': 'Bridge', 'tier': 2}, {'description': 'We need a description here', 'name': 'GoldenGate', 'tier': 2}, {'description': 'We need a description here', 'name': 'Gold', 'tier': 1}, {'description': 'We need a description here', 'name': 'Silver', 'tier': 1}, {'description': 'We need a description here', 'name': 'Rhodium', 'tier': 1}, {'description': 'We need a description here', 'name': 'Hive', 'tier': 1}, {'description': 'We need a description here', 'name': 'Transaction', 'tier': 1}, {'description': 'We need a description here', 'name': 'Block', 'tier': 1}, {'description': 'We need a description here', 'name': 'Blockchain', 'tier': 1}, {'description': 'We need a description here', 'name': 'Polkadot', 'tier': 1}, {'description': 'We need a description here', 'name': 'PeerReview', 'tier': 1}, {'description': 'We need a description here', 'name': 'Cardano', 'tier': 2}, {'description': 'We need a description here', 'name': 'Bear', 'tier': 1}, {'description': 'We need a description here', 'name': 'Beer', 'tier': 2}, {'description': 'We need a description here', 'name': 'Lock', 'tier': 2}, {'description': 'We need a description here', 'name': 'Marmalade', 'tier': 1}, {'description': 'We need a description here', 'name': 'SuperMarmalade', 'tier': 2}, {'description': 'We need a description here', 'name': 'HyperMarmalade', 'tier': 2}, {'description': 'We need a description here', 'name': 'Water', 'tier': 1}, {'description': 'We need a description here', 'name': 'Fire', 'tier': 1}, {'description': 'We need a description here', 'name': 'Steam', 'tier': 1}, {'description': 'We need a description here', 'name': 'Earth', 'tier': 1}, {'description': 'We need a description here', 'name': 'Mud', 'tier': 1}, {'description': 'We need a description here', 'name': 'Lava', 'tier': 1}, {'description': 'We need a description here', 'name': 'Wind', 'tier': 1}, {'description': 'We need a description here', 'name': 'Dust', 'tier': 1}, {'description': 'We need a description here', 'name': 'Rain', 'tier': 1}, {'description': 'We need a description here', 'name': 'Smoke', 'tier': 1}, {'description': 'We need a description here', 'name': 'Geyser', 'tier': 1}, {'description': 'We need a description here', 'name': 'Clay', 'tier': 1}, {'description': 'We need a description here', 'name': 'Sand', 'tier': 1}, {'description': 'We need a description here', 'name': 'Plant', 'tier': 1}, {'description': 'We need a description here', 'name': 'Rainbow', 'tier': 1}, {'description': 'We need a description here', 'name': 'Storm', 'tier': 1}, {'description': 'We need a description here', 'name': 'Obsidian', 'tier': 1}, {'description': 'We need a description here', 'name': 'Ash', 'tier': 1}, {'description': 'We need a description here', 'name': 'Volcano', 'tier': 1}, {'description': 'We need a description here', 'name': 'Sandstorm', 'tier': 1}, {'description': 'We need a description here', 'name': 'Cloud', 'tier': 1}, {'description': 'We need a description here', 'name': 'Fog', 'tier': 1}, {'description': 'We need a description here', 'name': 'Tree', 'tier': 1}, {'description': 'We need a description here', 'name': 'Forest', 'tier': 1}, {'description': 'We need a description here', 'name': 'Seeds', 'tier': 1}, {'description': 'We need a description here', 'name': 'Pottery', 'tier': 1}, {'description': 'We need a description here', 'name': 'Brick', 'tier': 1}, {'description': 'We need a description here', 'name': 'Quicksand', 'tier': 1}, {'description': 'We need a description here', 'name': 'Glass', 'tier': 1}, {'description': 'We need a description here', 'name': 'Dune', 'tier': 1}, {'description': 'We need a description here', 'name': 'Charcoal', 'tier': 1}, {'description': 'We need a description here', 'name': 'Leaves', 'tier': 1}, {'description': 'We need a description here', 'name': 'Wildfire', 'tier': 1}, {'description': 'We need a description here', 'name': 'Jungle', 'tier': 1}, {'description': 'We need a description here', 'name': 'FrostedGlass', 'tier': 1}, {'description': 'We need a description here', 'name': 'Crystal', 'tier': 1}, {'description': 'We need a description here', 'name': 'Magma', 'tier': 1}, {'description': 'We need a description here', 'name': 'Rock', 'tier': 1}, {'description': 'We need a description here', 'name': 'Shard', 'tier': 1}, {'description': 'We need a description here', 'name': 'Pebble', 'tier': 1}, {'description': 'We need a description here', 'name': 'Mountain', 'tier': 1}, {'description': 'We need a description here', 'name': 'Fertilizer', 'tier': 1}, {'description': 'We need a description here', 'name': 'Soot', 'tier': 1}, {'description': 'We need a description here', 'name': 'Lightning', 'tier': 1}, {'description': 'We need a description here', 'name': 'Mist', 'tier': 1}, {'description': 'We need a description here', 'name': 'Haze', 'tier': 1}, {'description': 'We need a description here', 'name': 'Flood', 'tier': 1}, {'description': 'We need a description here', 'name': 'Landslide', 'tier': 1}, {'description': 'We need a description here', 'name': 'Thunder', 'tier': 1}, {'description': 'We need a description here', 'name': 'Tornado', 'tier': 1}, {'description': 'We need a description here', 'name': 'Garden', 'tier': 1}, {'description': 'We need a description here', 'name': 'Ember', 'tier': 1}, {'description': 'We need a description here', 'name': 'Kiln', 'tier': 1}, {'description': 'We need a description here', 'name': 'Pollination', 'tier': 1}, {'description': 'We need a description here', 'name': 'Sinkhole', 'tier': 1}, {'description': 'We need a description here', 'name': 'Beach', 'tier': 1}, {'description': 'We need a description here', 'name': 'Wetstone', 'tier': 1}, {'description': 'We need a description here', 'name': 'Erosion', 'tier': 1}, {'description': 'We need a description here', 'name': 'Basalt', 'tier': 1}, {'description': 'We need a description here', 'name': 'MagmaChamber', 'tier': 1}, {'description': 'We need a description here', 'name': 'Breeze', 'tier': 1}, {'description': 'We need a description here', 'name': 'WarmBreeze', 'tier': 1}, {'description': 'We need a description here', 'name': 'Soil', 'tier': 1}, {'description': 'We need a description here', 'name': 'Canyon', 'tier': 1}, {'description': 'We need a description here', 'name': 'Windmill', 'tier': 1}, {'description': 'We need a description here', 'name': 'Adobe', 'tier': 1}, {'description': 'We need a description here', 'name': 'Wall', 'tier': 1}, {'description': 'We need a description here', 'name': 'Pumice', 'tier': 1}, {'description': 'We need a description here', 'name': 'Barbecue', 'tier': 1}, {'description': 'We need a description here', 'name': 'Farm', 'tier': 1}, {'description': 'We need a description here', 'name': 'Shards', 'tier': 1}, {'description': 'We need a description here', 'name': 'MoltenGlass', 'tier': 1}, {'description': 'We need a description here', 'name': 'Prism', 'tier': 1}, {'description': 'We need a description here', 'name': 'Sparkle', 'tier': 1}, {'description': 'We need a description here', 'name': 'Desert', 'tier': 1}, {'description': 'We need a description here', 'name': 'Oasis', 'tier': 1}, {'description': 'We need a description here', 'name': 'Mirage', 'tier': 1}, {'description': 'We need a description here', 'name': 'SandDune', 'tier': 1}, {'description': 'We need a description here', 'name': 'Dam', 'tier': 1}, {'description': 'We need a description here', 'name': 'Firewall', 'tier': 1}, {'description': 'We need a description here', 'name': 'Barricade', 'tier': 1}, {'description': 'We need a description here', 'name': 'Plateau', 'tier': 1}, {'description': 'We need a description here', 'name': 'Pond', 'tier': 1}, {'description': 'We need a description here', 'name': 'Aromas', 'tier': 1}, {'description': 'We need a description here', 'name': 'Flower', 'tier': 1}, {'description': 'We need a description here', 'name': 'Spore', 'tier': 1}, {'description': 'We need a description here', 'name': 'Spread', 'tier': 1}, {'description': 'We need a description here', 'name': 'FertileLand', 'tier': 1}, {'description': 'We need a description here', 'name': 'Wetland', 'tier': 1}, {'description': 'We need a description here', 'name': 'Peat', 'tier': 1}, {'description': 'We need a description here', 'name': 'Reeds', 'tier': 1}, {'description': 'We need a description here', 'name': 'Valley', 'tier': 1}, {'description': 'We need a description here', 'name': 'River', 'tier': 1}, {'description': 'We need a description here', 'name': 'ScorchedEarth', 'tier': 1}, {'description': 'We need a description here', 'name': 'Delta', 'tier': 1}, {'description': 'We need a description here', 'name': 'Estuary', 'tier': 1}, {'description': 'We need a description here', 'name': 'FireSwamp', 'tier': 1}, {'description': 'We need a description here', 'name': 'Riverbank', 'tier': 1}, {'description': 'We need a description here', 'name': 'Ravine', 'tier': 1}, {'description': 'We need a description here', 'name': 'Gorge', 'tier': 1}, {'description': 'We need a description here', 'name': 'CharredRavine', 'tier': 1}, {'description': 'We need a description here', 'name': 'Echo', 'tier': 1}, {'description': 'We need a description here', 'name': 'Cave', 'tier': 1}, {'description': 'We need a description here', 'name': 'UndergroundLake', 'tier': 1}, {'description': 'We need a description here', 'name': 'LavaCave', 'tier': 1}, {'description': 'We need a description here', 'name': 'WhisperingCave', 'tier': 1}, {'description': 'We need a description here', 'name': 'SubterraneanPool', 'tier': 1}, {'description': 'We need a description here', 'name': 'Spring', 'tier': 1}, {'description': 'We need a description here', 'name': 'HotSpring', 'tier': 1}, {'description': 'We need a description here', 'name': 'Grotto', 'tier': 1}, {'description': 'We need a description here', 'name': 'Fountain', 'tier': 1}, {'description': 'We need a description here', 'name': 'SteamVent', 'tier': 1}, {'description': 'We need a description here', 'name': 'CoolBreeze', 'tier': 1}, {'description': 'We need a description here', 'name': 'Monument', 'tier': 1}, {'description': 'We need a description here', 'name': 'Waterfall', 'tier': 1}, {'description': 'We need a description here', 'name': 'EternalFlame', 'tier': 1}, {'description': 'We need a description here', 'name': 'PillarOfWind', 'tier': 1}, {'description': 'We need a description here', 'name': 'Stream', 'tier': 1}, {'description': 'We need a description here', 'name': 'Zephyr', 'tier': 1}, {'description': 'We need a description here', 'name': 'Creek', 'tier': 1}, {'description': 'We need a description here', 'name': 'Brook', 'tier': 1}, {'description': 'We need a description here', 'name': 'Whisper', 'tier': 1}, {'description': 'We need a description here', 'name': 'Rivulet', 'tier': 1}, {'description': 'We need a description here', 'name': 'Tributary', 'tier': 1}, {'description': 'We need a description here', 'name': 'Murmur', 'tier': 1}, {'description': 'We need a description here', 'name': 'Watershed', 'tier': 1}, {'description': 'We need a description here', 'name': 'Aquifer', 'tier': 1}, {'description': 'We need a description here', 'name': 'ParchedEarth', 'tier': 1}, {'description': 'We need a description here', 'name': 'FreshBreeze', 'tier': 1}, {'description': 'We need a description here', 'name': 'Groundwater', 'tier': 1}, {'description': 'We need a description here', 'name': 'Reservoir', 'tier': 1}, {'description': 'We need a description here', 'name': 'GeothermalSpring', 'tier': 1}, {'description': 'We need a description here', 'name': 'ArtesianWell', 'tier': 1}, {'description': 'We need a description here', 'name': 'Basin', 'tier': 1}, {'description': 'We need a description here', 'name': 'Lake', 'tier': 1}, {'description': 'We need a description here', 'name': 'DryBasin', 'tier': 1}, {'description': 'We need a description here', 'name': 'Depression', 'tier': 1}, {'description': 'We need a description here', 'name': 'Island', 'tier': 1}, {'description': 'We need a description here', 'name': 'Lagoon', 'tier': 1}, {'description': 'We need a description here', 'name': 'Wave', 'tier': 1}, {'description': 'We need a description here', 'name': 'Reef', 'tier': 1}, {'description': 'We need a description here', 'name': 'Coral', 'tier': 1}, {'description': 'We need a description here', 'name': 'Whirl', 'tier': 1}, {'description': 'We need a description here', 'name': 'Limestone', 'tier': 1}, {'description': 'We need a description here', 'name': 'Karst', 'tier': 1}, {'description': 'We need a description here', 'name': 'Quicklime', 'tier': 1}, {'description': 'We need a description here', 'name': 'Blowhole', 'tier': 1}], 'schema': 's/Item'}\n"
     ]
    }
   ],
   "source": [
    "items_pdata_path = \"../.projor/data/items.pdata.yaml\"\n",
    "with open(items_pdata_path, \"r\") as f:\n",
    "    items_pdata = yaml.safe_load(f)\n",
    "print(items_pdata)"
   ]
  },
  {
   "cell_type": "code",
   "execution_count": 8,
   "metadata": {},
   "outputs": [],
   "source": [
    "def capital_case(macrocasename):\n",
    "    parts = macrocasename.split(\" \")\n",
    "    capitalized_parts = [part.capitalize() for part in parts]\n",
    "    return \" \".join(capitalized_parts)\n",
    "def kebab_case(macrocasename):\n",
    "    parts = macrocasename.split(\" \")\n",
    "    kebab_parts = [part.lower() for part in parts]\n",
    "    return \"-\".join(kebab_parts)"
   ]
  },
  {
   "cell_type": "code",
   "execution_count": 9,
   "metadata": {},
   "outputs": [],
   "source": [
    "def merge_description(itemname):\n",
    "    itemobjs = [item for item in items_pdata[\"objects\"] if item[\"name\"] == itemname]\n",
    "    if len(itemobjs) == 0:\n",
    "        return\n",
    "    itemobj = itemobjs[0]\n",
    "    descfilename = f\"../.projor/tmp/{kebab_case(itemname)}.description\"\n",
    "    if os.path.exists(descfilename):\n",
    "        with open(descfilename, \"r\") as f:\n",
    "            itemobj[\"description\"] = f.read()\n",
    "    else:\n",
    "        itemobj[\"description\"] = \"We need a description here!\"\n"
   ]
  },
  {
   "cell_type": "code",
   "execution_count": 10,
   "metadata": {},
   "outputs": [],
   "source": [
    "for item in items_pdata['objects']:\n",
    "    itemname = item[\"name\"]\n",
    "    merge_description(itemname)\n",
    "with open(items_pdata_path, \"w\") as f:\n",
    "    yaml.dump(items_pdata, f, indent=2)"
   ]
  }
 ],
 "metadata": {
  "kernelspec": {
   "display_name": "Python 3",
   "language": "python",
   "name": "python3"
  },
  "language_info": {
   "codemirror_mode": {
    "name": "ipython",
    "version": 3
   },
   "file_extension": ".py",
   "mimetype": "text/x-python",
   "name": "python",
   "nbconvert_exporter": "python",
   "pygments_lexer": "ipython3",
   "version": "3.12.2"
  }
 },
 "nbformat": 4,
 "nbformat_minor": 2
}
