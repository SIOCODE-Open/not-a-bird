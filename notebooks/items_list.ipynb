{
 "cells": [
  {
   "cell_type": "code",
   "execution_count": 2,
   "metadata": {},
   "outputs": [
    {
     "name": "stdout",
     "output_type": "stream",
     "text": [
      "25\n"
     ]
    }
   ],
   "source": [
    "# You need to do this first before running this notebook:\n",
    "# python -m pip install PyYAML\n",
    "import yaml\n",
    "\n",
    "filename = \"../.projor/data/items.pdata.yaml\"\n",
    "items_pdata_objects = []\n",
    "with open(filename, 'r') as stream:\n",
    "    try:\n",
    "        items_pdata_content = yaml.safe_load(stream)\n",
    "        items_pdata_objects = items_pdata_content['objects']\n",
    "    except yaml.YAMLError as exc:\n",
    "        print(exc)\n",
    "\n",
    "print(len(items_pdata_objects))"
   ]
  },
  {
   "cell_type": "code",
   "execution_count": 3,
   "metadata": {},
   "outputs": [
    {
     "name": "stdout",
     "output_type": "stream",
     "text": [
      "- items#Monkey\n",
      "- items#Giraffe\n",
      "- items#Bee\n",
      "- items#Coin\n",
      "- items#SWARM\n",
      "- items#Hydra\n",
      "- items#MonkeyBranch\n",
      "- items#Bridge\n",
      "- items#GoldenGate\n",
      "- items#Gold\n",
      "- items#Silver\n",
      "- items#Rhodium\n",
      "- items#Hive\n",
      "- items#Transaction\n",
      "- items#Block\n",
      "- items#Blockchain\n",
      "- items#Polkadot\n",
      "- items#PeerReview\n",
      "- items#Cardano\n",
      "- items#Bear\n",
      "- items#Beer\n",
      "- items#Lock\n",
      "- items#Marmalade\n",
      "- items#SuperMarmalade\n",
      "- items#HyperMarmalade\n"
     ]
    }
   ],
   "source": [
    "for item in items_pdata_objects:\n",
    "    print(f'- items#{item[\"name\"]}')"
   ]
  }
 ],
 "metadata": {
  "kernelspec": {
   "display_name": "Python 3",
   "language": "python",
   "name": "python3"
  },
  "language_info": {
   "codemirror_mode": {
    "name": "ipython",
    "version": 3
   },
   "file_extension": ".py",
   "mimetype": "text/x-python",
   "name": "python",
   "nbconvert_exporter": "python",
   "pygments_lexer": "ipython3",
   "version": "3.12.2"
  }
 },
 "nbformat": 4,
 "nbformat_minor": 2
}
